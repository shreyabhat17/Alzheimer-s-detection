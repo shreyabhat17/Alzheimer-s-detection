{
 "cells": [
  {
   "cell_type": "code",
   "execution_count": 1,
   "id": "1f71054b",
   "metadata": {},
   "outputs": [
    {
     "name": "stdout",
     "output_type": "stream",
     "text": [
      "WARNING:tensorflow:From C:\\Users\\user\\AppData\\Local\\Packages\\PythonSoftwareFoundation.Python.3.10_qbz5n2kfra8p0\\LocalCache\\local-packages\\Python310\\site-packages\\keras\\src\\losses.py:2976: The name tf.losses.sparse_softmax_cross_entropy is deprecated. Please use tf.compat.v1.losses.sparse_softmax_cross_entropy instead.\n",
      "\n"
     ]
    }
   ],
   "source": [
    "import numpy as np\n",
    "import pandas as pd\n",
    "import matplotlib.pyplot as plt\n",
    "import skimage.io\n",
    "import os\n",
    "import tqdm\n",
    "import glob\n",
    "import tensorflow\n",
    "\n",
    "from tqdm import tqdm\n",
    "from sklearn.utils import shuffle\n",
    "from sklearn.model_selection import train_test_split\n",
    "\n",
    "from skimage.io import imread, imshow\n",
    "from skimage.transform import resize\n",
    "#from skimage.color import grey2rgb\n",
    "\n",
    "from keras.preprocessing.image import ImageDataGenerator\n",
    "from keras.models import Sequential\n",
    "from keras.layers import InputLayer, BatchNormalization, Dropout, Flatten, Dense, Activation, MaxPool2D, Conv2D\n",
    "from keras.callbacks import EarlyStopping, ModelCheckpoint\n",
    "from keras.applications.densenet import DenseNet169\n",
    "from keras.preprocessing.image import load_img, img_to_array"
   ]
  },
  {
   "cell_type": "markdown",
   "id": "e8576051",
   "metadata": {},
   "source": [
    "# Dataset: https://www.kaggle.com/datasets/tourist55/alzheimers-dataset-4-class-of-images"
   ]
  },
  {
   "cell_type": "code",
   "execution_count": 2,
   "id": "3687df43",
   "metadata": {},
   "outputs": [],
   "source": [
    "train_datagen = ImageDataGenerator(rescale = 1./255,\n",
    "                                   rotation_range=10,\n",
    "                                   zoom_range=0.1,\n",
    "                                   horizontal_flip=True,\n",
    "                                   validation_split = 0.2)\n",
    "\n",
    "valid_datagen = ImageDataGenerator(rescale = 1./255,\n",
    "                                   validation_split = 0.2)\n",
    "\n",
    "test_datagen  = ImageDataGenerator(rescale = 1./255)"
   ]
  },
  {
   "cell_type": "code",
   "execution_count": 3,
   "id": "5bd10f43",
   "metadata": {},
   "outputs": [
    {
     "name": "stdout",
     "output_type": "stream",
     "text": [
      "Found 4098 images belonging to 4 classes.\n"
     ]
    }
   ],
   "source": [
    "train_dataset  = train_datagen.flow_from_directory(directory = 'D:/alzhiemer/Alzheimer_s Dataset/train',\n",
    "                                                   target_size = (224,224),\n",
    "                                                   class_mode = 'categorical',\n",
    "                                                   subset = 'training',\n",
    "                                                   batch_size = 32)"
   ]
  },
  {
   "cell_type": "code",
   "execution_count": 4,
   "id": "61a5f0b9",
   "metadata": {},
   "outputs": [
    {
     "name": "stdout",
     "output_type": "stream",
     "text": [
      "Found 1023 images belonging to 4 classes.\n"
     ]
    }
   ],
   "source": [
    "valid_dataset = valid_datagen.flow_from_directory(directory = 'D:/alzhiemer/Alzheimer_s Dataset/train',\n",
    "                                                  target_size = (224,224),\n",
    "                                                  class_mode = 'categorical',\n",
    "                                                  subset = 'validation',\n",
    "                                                  batch_size = 32)"
   ]
  },
  {
   "cell_type": "code",
   "execution_count": 5,
   "id": "43cfb443",
   "metadata": {},
   "outputs": [
    {
     "name": "stdout",
     "output_type": "stream",
     "text": [
      "WARNING:tensorflow:From C:\\Users\\user\\AppData\\Local\\Packages\\PythonSoftwareFoundation.Python.3.10_qbz5n2kfra8p0\\LocalCache\\local-packages\\Python310\\site-packages\\keras\\src\\backend.py:1398: The name tf.executing_eagerly_outside_functions is deprecated. Please use tf.compat.v1.executing_eagerly_outside_functions instead.\n",
      "\n",
      "WARNING:tensorflow:From C:\\Users\\user\\AppData\\Local\\Packages\\PythonSoftwareFoundation.Python.3.10_qbz5n2kfra8p0\\LocalCache\\local-packages\\Python310\\site-packages\\keras\\src\\layers\\normalization\\batch_normalization.py:979: The name tf.nn.fused_batch_norm is deprecated. Please use tf.compat.v1.nn.fused_batch_norm instead.\n",
      "\n"
     ]
    }
   ],
   "source": [
    "# Model Initialization\n",
    "\n",
    "base_model = DenseNet169(input_shape=(224,224,3), \n",
    "                         include_top=False,\n",
    "                         weights=\"imagenet\")"
   ]
  },
  {
   "cell_type": "code",
   "execution_count": 6,
   "id": "5453791c",
   "metadata": {},
   "outputs": [],
   "source": [
    "# Freezing Layers\n",
    "\n",
    "for layer in base_model.layers:\n",
    "    layer.trainable=False"
   ]
  },
  {
   "cell_type": "code",
   "execution_count": 7,
   "id": "3f2a00ac",
   "metadata": {},
   "outputs": [],
   "source": [
    "model = Sequential()\n",
    "model.add(base_model)\n",
    "model.add(Dropout(0.5))\n",
    "model.add(Flatten())\n",
    "model.add(BatchNormalization())\n",
    "model.add(Dense(1024, activation='relu'))\n",
    "model.add(Dropout(0.5))\n",
    "model.add(Dense(4, activation='softmax'))\n"
   ]
  },
  {
   "cell_type": "code",
   "execution_count": 8,
   "id": "2de26a0c",
   "metadata": {},
   "outputs": [
    {
     "name": "stdout",
     "output_type": "stream",
     "text": [
      "Model: \"sequential\"\n",
      "_________________________________________________________________\n",
      " Layer (type)                Output Shape              Param #   \n",
      "=================================================================\n",
      " densenet169 (Functional)    (None, 7, 7, 1664)        12642880  \n",
      "                                                                 \n",
      " dropout (Dropout)           (None, 7, 7, 1664)        0         \n",
      "                                                                 \n",
      " flatten (Flatten)           (None, 81536)             0         \n",
      "                                                                 \n",
      " batch_normalization (Batch  (None, 81536)             326144    \n",
      " Normalization)                                                  \n",
      "                                                                 \n",
      " dense (Dense)               (None, 1024)              83493888  \n",
      "                                                                 \n",
      " dropout_1 (Dropout)         (None, 1024)              0         \n",
      "                                                                 \n",
      " dense_1 (Dense)             (None, 4)                 4100      \n",
      "                                                                 \n",
      "=================================================================\n",
      "Total params: 96467012 (367.99 MB)\n",
      "Trainable params: 83661060 (319.14 MB)\n",
      "Non-trainable params: 12805952 (48.85 MB)\n",
      "_________________________________________________________________\n"
     ]
    }
   ],
   "source": [
    "model.summary()"
   ]
  },
  {
   "cell_type": "code",
   "execution_count": 11,
   "id": "cb86e898",
   "metadata": {},
   "outputs": [],
   "source": [
    "from keras.optimizers import Adam\n",
    "OPT = Adam(learning_rate=0.001)\n",
    "\n",
    "model.compile(loss='categorical_crossentropy',\n",
    "              metrics=['accuracy'],\n",
    "              optimizer=OPT)"
   ]
  },
  {
   "cell_type": "code",
   "execution_count": 12,
   "id": "f7f558c5",
   "metadata": {},
   "outputs": [],
   "source": [
    "# Defining Callbacks\n",
    "filepath = './best_weights.h5'\n",
    "\n",
    "earlystopping = EarlyStopping(monitor='val_accuracy',\n",
    "                              mode='max',\n",
    "                              patience=15,\n",
    "                              verbose=1)\n",
    "\n",
    "checkpoint = ModelCheckpoint(filepath,\n",
    "                              monitor='val_accuracy',\n",
    "                              mode='max',\n",
    "                              save_best_only=True,\n",
    "                              verbose=1)\n",
    "\n",
    "callback_list = [earlystopping, checkpoint]"
   ]
  },
  {
   "cell_type": "code",
   "execution_count": 17,
   "id": "abb7f631",
   "metadata": {},
   "outputs": [
    {
     "name": "stdout",
     "output_type": "stream",
     "text": [
      "Epoch 1/25\n",
      "129/129 [==============================] - ETA: 0s - loss: 0.3763 - accuracy: 0.8590\n",
      "Epoch 1: val_accuracy improved from 0.63832 to 0.65494, saving model to .\\best_weights.h5\n",
      "129/129 [==============================] - 403s 3s/step - loss: 0.3763 - accuracy: 0.8590 - val_loss: 1.0523 - val_accuracy: 0.6549\n",
      "Epoch 2/25\n",
      "129/129 [==============================] - ETA: 0s - loss: 0.3753 - accuracy: 0.8594\n",
      "Epoch 2: val_accuracy did not improve from 0.65494\n",
      "129/129 [==============================] - 400s 3s/step - loss: 0.3753 - accuracy: 0.8594 - val_loss: 1.2047 - val_accuracy: 0.6354\n",
      "Epoch 3/25\n",
      "129/129 [==============================] - ETA: 0s - loss: 0.3284 - accuracy: 0.8797\n",
      "Epoch 3: val_accuracy improved from 0.65494 to 0.68622, saving model to .\\best_weights.h5\n",
      "129/129 [==============================] - 384s 3s/step - loss: 0.3284 - accuracy: 0.8797 - val_loss: 1.0664 - val_accuracy: 0.6862\n",
      "Epoch 4/25\n",
      "129/129 [==============================] - ETA: 0s - loss: 0.3498 - accuracy: 0.8741\n",
      "Epoch 4: val_accuracy did not improve from 0.68622\n",
      "129/129 [==============================] - 394s 3s/step - loss: 0.3498 - accuracy: 0.8741 - val_loss: 1.1052 - val_accuracy: 0.6804\n",
      "Epoch 5/25\n",
      "129/129 [==============================] - ETA: 0s - loss: 0.3281 - accuracy: 0.8768\n",
      "Epoch 5: val_accuracy did not improve from 0.68622\n",
      "129/129 [==============================] - 378s 3s/step - loss: 0.3281 - accuracy: 0.8768 - val_loss: 1.0458 - val_accuracy: 0.6735\n",
      "Epoch 6/25\n",
      "129/129 [==============================] - ETA: 0s - loss: 0.3398 - accuracy: 0.8773\n",
      "Epoch 6: val_accuracy improved from 0.68622 to 0.68719, saving model to .\\best_weights.h5\n",
      "129/129 [==============================] - 376s 3s/step - loss: 0.3398 - accuracy: 0.8773 - val_loss: 1.1398 - val_accuracy: 0.6872\n",
      "Epoch 7/25\n",
      "129/129 [==============================] - ETA: 0s - loss: 0.3282 - accuracy: 0.8848\n",
      "Epoch 7: val_accuracy did not improve from 0.68719\n",
      "129/129 [==============================] - 425s 3s/step - loss: 0.3282 - accuracy: 0.8848 - val_loss: 1.2210 - val_accuracy: 0.6813\n",
      "Epoch 8/25\n",
      "129/129 [==============================] - ETA: 0s - loss: 0.2986 - accuracy: 0.8912\n",
      "Epoch 8: val_accuracy did not improve from 0.68719\n",
      "129/129 [==============================] - 413s 3s/step - loss: 0.2986 - accuracy: 0.8912 - val_loss: 1.3068 - val_accuracy: 0.6813\n",
      "Epoch 9/25\n",
      "129/129 [==============================] - ETA: 0s - loss: 0.3361 - accuracy: 0.8751\n",
      "Epoch 9: val_accuracy improved from 0.68719 to 0.69404, saving model to .\\best_weights.h5\n",
      "129/129 [==============================] - 393s 3s/step - loss: 0.3361 - accuracy: 0.8751 - val_loss: 0.8983 - val_accuracy: 0.6940\n",
      "Epoch 10/25\n",
      "129/129 [==============================] - ETA: 0s - loss: 0.2776 - accuracy: 0.8978\n",
      "Epoch 10: val_accuracy improved from 0.69404 to 0.69892, saving model to .\\best_weights.h5\n",
      "129/129 [==============================] - 389s 3s/step - loss: 0.2776 - accuracy: 0.8978 - val_loss: 1.0555 - val_accuracy: 0.6989\n",
      "Epoch 11/25\n",
      "129/129 [==============================] - ETA: 0s - loss: 0.3069 - accuracy: 0.8946\n",
      "Epoch 11: val_accuracy did not improve from 0.69892\n",
      "129/129 [==============================] - 395s 3s/step - loss: 0.3069 - accuracy: 0.8946 - val_loss: 1.2100 - val_accuracy: 0.6344\n",
      "Epoch 12/25\n",
      "129/129 [==============================] - ETA: 0s - loss: 0.2740 - accuracy: 0.9002\n",
      "Epoch 12: val_accuracy improved from 0.69892 to 0.73118, saving model to .\\best_weights.h5\n",
      "129/129 [==============================] - 371s 3s/step - loss: 0.2740 - accuracy: 0.9002 - val_loss: 0.9829 - val_accuracy: 0.7312\n",
      "Epoch 13/25\n",
      "129/129 [==============================] - ETA: 0s - loss: 0.2757 - accuracy: 0.9053\n",
      "Epoch 13: val_accuracy did not improve from 0.73118\n",
      "129/129 [==============================] - 291s 2s/step - loss: 0.2757 - accuracy: 0.9053 - val_loss: 0.9137 - val_accuracy: 0.7195\n",
      "Epoch 14/25\n",
      "129/129 [==============================] - ETA: 0s - loss: 0.2566 - accuracy: 0.9197\n",
      "Epoch 14: val_accuracy did not improve from 0.73118\n",
      "129/129 [==============================] - 271s 2s/step - loss: 0.2566 - accuracy: 0.9197 - val_loss: 1.1079 - val_accuracy: 0.6882\n",
      "Epoch 15/25\n",
      "129/129 [==============================] - ETA: 0s - loss: 0.2286 - accuracy: 0.9143\n",
      "Epoch 15: val_accuracy improved from 0.73118 to 0.73900, saving model to .\\best_weights.h5\n",
      "129/129 [==============================] - 279s 2s/step - loss: 0.2286 - accuracy: 0.9143 - val_loss: 1.2559 - val_accuracy: 0.7390\n",
      "Epoch 16/25\n",
      "129/129 [==============================] - ETA: 0s - loss: 0.2766 - accuracy: 0.9041\n",
      "Epoch 16: val_accuracy did not improve from 0.73900\n",
      "129/129 [==============================] - 290s 2s/step - loss: 0.2766 - accuracy: 0.9041 - val_loss: 1.3524 - val_accuracy: 0.6804\n",
      "Epoch 17/25\n",
      "129/129 [==============================] - ETA: 0s - loss: 0.2759 - accuracy: 0.9026\n",
      "Epoch 17: val_accuracy did not improve from 0.73900\n",
      "129/129 [==============================] - 294s 2s/step - loss: 0.2759 - accuracy: 0.9026 - val_loss: 1.0265 - val_accuracy: 0.7253\n",
      "Epoch 18/25\n",
      "129/129 [==============================] - ETA: 0s - loss: 0.2470 - accuracy: 0.9114\n",
      "Epoch 18: val_accuracy did not improve from 0.73900\n",
      "129/129 [==============================] - 313s 2s/step - loss: 0.2470 - accuracy: 0.9114 - val_loss: 1.1617 - val_accuracy: 0.7214\n",
      "Epoch 19/25\n",
      "129/129 [==============================] - ETA: 0s - loss: 0.2495 - accuracy: 0.9168\n",
      "Epoch 19: val_accuracy did not improve from 0.73900\n",
      "129/129 [==============================] - 305s 2s/step - loss: 0.2495 - accuracy: 0.9168 - val_loss: 1.2711 - val_accuracy: 0.7175\n",
      "Epoch 20/25\n",
      "129/129 [==============================] - ETA: 0s - loss: 0.2637 - accuracy: 0.9100\n",
      "Epoch 20: val_accuracy did not improve from 0.73900\n",
      "129/129 [==============================] - 292s 2s/step - loss: 0.2637 - accuracy: 0.9100 - val_loss: 1.4693 - val_accuracy: 0.6843\n",
      "Epoch 21/25\n",
      "129/129 [==============================] - ETA: 0s - loss: 0.2831 - accuracy: 0.9095\n",
      "Epoch 21: val_accuracy did not improve from 0.73900\n",
      "129/129 [==============================] - 288s 2s/step - loss: 0.2831 - accuracy: 0.9095 - val_loss: 1.1741 - val_accuracy: 0.7048\n",
      "Epoch 22/25\n",
      "129/129 [==============================] - ETA: 0s - loss: 0.2443 - accuracy: 0.9197\n",
      "Epoch 22: val_accuracy improved from 0.73900 to 0.76735, saving model to .\\best_weights.h5\n",
      "129/129 [==============================] - 293s 2s/step - loss: 0.2443 - accuracy: 0.9197 - val_loss: 0.7655 - val_accuracy: 0.7674\n",
      "Epoch 23/25\n",
      "129/129 [==============================] - ETA: 0s - loss: 0.2294 - accuracy: 0.9214\n",
      "Epoch 23: val_accuracy did not improve from 0.76735\n",
      "129/129 [==============================] - 310s 2s/step - loss: 0.2294 - accuracy: 0.9214 - val_loss: 0.8212 - val_accuracy: 0.7537\n",
      "Epoch 24/25\n",
      "129/129 [==============================] - ETA: 0s - loss: 0.2272 - accuracy: 0.9258\n",
      "Epoch 24: val_accuracy improved from 0.76735 to 0.76931, saving model to .\\best_weights.h5\n",
      "129/129 [==============================] - 308s 2s/step - loss: 0.2272 - accuracy: 0.9258 - val_loss: 0.8211 - val_accuracy: 0.7693\n",
      "Epoch 25/25\n",
      "129/129 [==============================] - ETA: 0s - loss: 0.2307 - accuracy: 0.9197\n",
      "Epoch 25: val_accuracy did not improve from 0.76931\n",
      "129/129 [==============================] - 320s 2s/step - loss: 0.2307 - accuracy: 0.9197 - val_loss: 0.9298 - val_accuracy: 0.7625\n"
     ]
    }
   ],
   "source": [
    "model_history=model.fit(train_dataset,\n",
    "                        validation_data=valid_dataset,\n",
    "                        epochs = 25,\n",
    "                        callbacks = callback_list,\n",
    "                        verbose = 1)\n"
   ]
  },
  {
   "cell_type": "code",
   "execution_count": 18,
   "id": "aa8e1b78",
   "metadata": {},
   "outputs": [
    {
     "data": {
      "image/png": "[encoded data removed]",
      "text/plain": [
       "<Figure size 640x480 with 1 Axes>"
      ]
     },
     "metadata": {},
     "output_type": "display_data"
    }
   ],
   "source": [
    "# Summarize history for loss\n",
    "\n",
    "plt.plot(model_history.history['loss'])\n",
    "plt.plot(model_history.history['val_loss'])\n",
    "plt.title('Model Loss')\n",
    "plt.ylabel('Loss')\n",
    "plt.xlabel('Epoch')\n",
    "plt.legend(['Train', 'Validation'], loc='upper left', bbox_to_anchor=(1,1))\n",
    "plt.show()"
   ]
  },
  {
   "cell_type": "code",
   "execution_count": 19,
   "id": "6f369dd3",
   "metadata": {},
   "outputs": [
    {
     "ename": "KeyError",
     "evalue": "'auc'",
     "output_type": "error",
     "traceback": [
      "\u001b[1;31m---------------------------------------------------------------------------\u001b[0m",
      "\u001b[1;31mKeyError\u001b[0m                                  Traceback (most recent call last)",
      "Cell \u001b[1;32mIn[19], line 3\u001b[0m\n\u001b[0;32m      1\u001b[0m \u001b[38;5;66;03m# Summarize history for loss\u001b[39;00m\n\u001b[1;32m----> 3\u001b[0m plt\u001b[38;5;241m.\u001b[39mplot(\u001b[43mmodel_history\u001b[49m\u001b[38;5;241;43m.\u001b[39;49m\u001b[43mhistory\u001b[49m\u001b[43m[\u001b[49m\u001b[38;5;124;43m'\u001b[39;49m\u001b[38;5;124;43mauc\u001b[39;49m\u001b[38;5;124;43m'\u001b[39;49m\u001b[43m]\u001b[49m)\n\u001b[0;32m      4\u001b[0m plt\u001b[38;5;241m.\u001b[39mplot(model_history\u001b[38;5;241m.\u001b[39mhistory[\u001b[38;5;124m'\u001b[39m\u001b[38;5;124mval_auc\u001b[39m\u001b[38;5;124m'\u001b[39m])\n\u001b[0;32m      5\u001b[0m plt\u001b[38;5;241m.\u001b[39mtitle(\u001b[38;5;124m'\u001b[39m\u001b[38;5;124mModel AUC\u001b[39m\u001b[38;5;124m'\u001b[39m)\n",
      "\u001b[1;31mKeyError\u001b[0m: 'auc'"
     ]
    }
   ],
   "source": [
    "# Summarize history for loss\n",
    "\n",
    "plt.plot(model_history.history['auc'])\n",
    "plt.plot(model_history.history['val_auc'])\n",
    "plt.title('Model AUC')\n",
    "plt.ylabel('AUC')\n",
    "plt.xlabel('Epoch')\n",
    "plt.legend(['Train', 'Validation'], loc='upper left', bbox_to_anchor=(1,1))\n",
    "plt.show()"
   ]
  },
  {
   "cell_type": "code",
   "execution_count": 20,
   "id": "c3647b72",
   "metadata": {},
   "outputs": [
    {
     "name": "stdout",
     "output_type": "stream",
     "text": [
      "Found 1279 images belonging to 4 classes.\n",
      "10/10 [==============================] - 45s 4s/step - loss: 1.8901 - accuracy: 0.7334\n",
      "Test Loss: 1.8901, Test Accuracy: 73.34%\n"
     ]
    }
   ],
   "source": [
    "test_dataset = test_datagen.flow_from_directory(\n",
    "    directory='D:/alzhiemer/Alzheimer_s Dataset/test',\n",
    "    target_size=(224, 224),\n",
    "    class_mode='categorical',\n",
    "    batch_size=128\n",
    ")\n",
    "\n",
    "test_loss, test_accuracy = model.evaluate(test_dataset)\n",
    "print(f'Test Loss: {test_loss:.4f}, Test Accuracy: {test_accuracy * 100:.2f}%')\n"
   ]
  },
  {
   "cell_type": "code",
   "execution_count": 21,
   "id": "014f4135",
   "metadata": {},
   "outputs": [],
   "source": [
    "# Saving a TensorFlow model\n",
    "model.save('my_model.h5') "
   ]
  },
  {
   "cell_type": "code",
   "execution_count": null,
   "id": "b4a806a7",
   "metadata": {},
   "outputs": [],
   "source": []
  }
 ],
 "metadata": {
  "kernelspec": {
   "display_name": "Python 3 (ipykernel)",
   "language": "python",
   "name": "python3"
  },
  "language_info": {
   "codemirror_mode": {
    "name": "ipython",
    "version": 3
   },
   "file_extension": ".py",
   "mimetype": "text/x-python",
   "name": "python",
   "nbconvert_exporter": "python",
   "pygments_lexer": "ipython3",
   "version": "3.10.11"
  }
 },
 "nbformat": 4,
 "nbformat_minor": 5
}
